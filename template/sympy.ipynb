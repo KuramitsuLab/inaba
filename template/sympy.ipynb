{
  "nbformat": 4,
  "nbformat_minor": 0,
  "metadata": {
    "colab": {
      "name": "DS01_sympy.ipynb",
      "provenance": [],
      "toc_visible": true
    },
    "kernelspec": {
      "name": "python3",
      "display_name": "Python 3"
    }
  },
  "cells": [
    {
      "cell_type": "markdown",
      "metadata": {
        "id": "mDNzio0SO8Mc"
      },
      "source": [
        "# 代数計算: SymPy\n",
        "\n",
        "SymPy は、Mathematica や Maple の代替を目指して開発が進められている Python の代数計算ライブラリです。初歩的な数学の問題を解くときに重宝します。\n"
      ]
    },
    {
      "cell_type": "markdown",
      "metadata": {
        "id": "PKOpfR2nPOVn"
      },
      "source": [
        "## 準備\n",
        "\n",
        "必要なモジュールをインポートします。"
      ]
    },
    {
      "cell_type": "code",
      "metadata": {
        "id": "KXHxC9hOOc1l"
      },
      "source": [
        "from sympy import *"
      ],
      "execution_count": null,
      "outputs": []
    },
    {
      "cell_type": "markdown",
      "metadata": {
        "id": "S-eGx7DnPd-4"
      },
      "source": [
        "Google Colabratory では、数式をmathjax で表示できるように設定しておくとよいでしょう。"
      ]
    },
    {
      "cell_type": "code",
      "metadata": {
        "id": "dS940OOMPx9w"
      },
      "source": [
        "def custom_latex_printer(exp,**options):\n",
        "    from google.colab.output._publish import javascript\n",
        "    url = \"https://cdnjs.cloudflare.com/ajax/libs/mathjax/2.7.3/latest.js\"\n",
        "    javascript(url=url)\n",
        "    return printing.latex(exp,**options)\n",
        "init_printing(use_latex=\"mathjax\",latex_printer=custom_latex_printer)\n"
      ],
      "execution_count": null,
      "outputs": []
    },
    {
      "cell_type": "markdown",
      "metadata": {
        "id": "SDy6jrDaQSL_"
      },
      "source": [
        "## 代数計算とは\n",
        "\n",
        "代数操作とは、数式を数値として計算することなく、シンボル(代数)の操作として計算することです。\n",
        "変数などのシンボルは数値として評価されず、シンボルのまま計算されます。\n",
        "計算結果は、 代数式のまま得られます。\n",
        "\n",
        "通常のPythonの変数と区別するため、\n",
        "変数は数値ではなく、Symbolを与えて初期化します。\n",
        "\n"
      ]
    },
    {
      "cell_type": "code",
      "metadata": {
        "id": "w9WvpgcTRDOf",
        "colab": {
          "base_uri": "https://localhost:8080/",
          "height": 38
        },
        "outputId": "89fb7a75-2f3b-4b9f-fbdd-841392417a7d"
      },
      "source": [
        "x = Symbol('x')\n",
        "y = Symbol('y')\n",
        "\n",
        "x + y + y + x + x"
      ],
      "execution_count": null,
      "outputs": [
        {
          "output_type": "display_data",
          "data": {
            "text/html": [
              "<script src='https://cdnjs.cloudflare.com/ajax/libs/mathjax/2.7.3/latest.js'></script>"
            ],
            "text/plain": [
              "<IPython.core.display.HTML object>"
            ]
          },
          "metadata": {
            "tags": []
          }
        },
        {
          "output_type": "execute_result",
          "data": {
            "text/latex": "$$3 x + 2 y$$",
            "text/plain": [
              "3⋅x + 2⋅y"
            ]
          },
          "metadata": {
            "tags": []
          },
          "execution_count": 3
        }
      ]
    },
    {
      "cell_type": "markdown",
      "metadata": {
        "id": "MTFZEL2ORa4D"
      },
      "source": [
        "注意：これ以降は、変数$x,y$はシンボルで初期化されているものとします。"
      ]
    },
    {
      "cell_type": "markdown",
      "metadata": {
        "id": "tqTXr0-LRoKC"
      },
      "source": [
        "## 代数式\n",
        "\n",
        "Symbol が含まれた式を代数式と呼ぶことにします。"
      ]
    },
    {
      "cell_type": "code",
      "metadata": {
        "id": "IKDxPv0eR1C_",
        "colab": {
          "base_uri": "https://localhost:8080/",
          "height": 38
        },
        "outputId": "1f3134b9-f929-4ae6-e1d9-ef694a4c4b4a"
      },
      "source": [
        "x = Symbol('x')\n",
        "y = Symbol('y')\n",
        "\n",
        "z = x + y + y + x + x\n",
        "z"
      ],
      "execution_count": null,
      "outputs": [
        {
          "output_type": "display_data",
          "data": {
            "text/html": [
              "<script src='https://cdnjs.cloudflare.com/ajax/libs/mathjax/2.7.3/latest.js'></script>"
            ],
            "text/plain": [
              "<IPython.core.display.HTML object>"
            ]
          },
          "metadata": {
            "tags": []
          }
        },
        {
          "output_type": "execute_result",
          "data": {
            "text/latex": "$$3 x + 2 y$$",
            "text/plain": [
              "3⋅x + 2⋅y"
            ]
          },
          "metadata": {
            "tags": []
          },
          "execution_count": 4
        }
      ]
    },
    {
      "cell_type": "markdown",
      "metadata": {
        "id": "BSsqA8zuSBhK"
      },
      "source": [
        "xもyも代数式なので、代入されたzも代数式となります。\n",
        "\n",
        "また、代数式に対するPythonの演算は、**代数操作**となります。"
      ]
    },
    {
      "cell_type": "code",
      "metadata": {
        "id": "Z0m0lmbpSRrI",
        "colab": {
          "base_uri": "https://localhost:8080/",
          "height": 39
        },
        "outputId": "a5d135c7-fa68-4c1f-d4e0-ce87b7697027"
      },
      "source": [
        "z ** 2"
      ],
      "execution_count": null,
      "outputs": [
        {
          "output_type": "display_data",
          "data": {
            "text/html": [
              "<script src='https://cdnjs.cloudflare.com/ajax/libs/mathjax/2.7.3/latest.js'></script>"
            ],
            "text/plain": [
              "<IPython.core.display.HTML object>"
            ]
          },
          "metadata": {
            "tags": []
          }
        },
        {
          "output_type": "execute_result",
          "data": {
            "text/latex": "$$\\left(3 x + 2 y\\right)^{2}$$",
            "text/plain": [
              "           2\n",
              "(3⋅x + 2⋅y) "
            ]
          },
          "metadata": {
            "tags": []
          },
          "execution_count": 5
        }
      ]
    },
    {
      "cell_type": "code",
      "metadata": {
        "id": "wZhEUlpZus1f"
      },
      "source": [
        ""
      ],
      "execution_count": null,
      "outputs": []
    },
    {
      "cell_type": "markdown",
      "metadata": {
        "id": "o1L810VLutm9"
      },
      "source": [
        "三角関数、$\\pi$ などは、SymPyからインポートされたものを用います。\n",
        "\n",
        "例. $\\sin{\\frac{\\pi}{3}}$"
      ]
    },
    {
      "cell_type": "code",
      "metadata": {
        "id": "NE7b3odWvHtm",
        "colab": {
          "base_uri": "https://localhost:8080/",
          "height": 40
        },
        "outputId": "20740d97-a381-4400-9e6d-09a11cfdf2f3"
      },
      "source": [
        "sin(pi/3)"
      ],
      "execution_count": null,
      "outputs": [
        {
          "output_type": "display_data",
          "data": {
            "text/html": [
              "<script src='https://cdnjs.cloudflare.com/ajax/libs/mathjax/2.7.3/latest.js'></script>"
            ],
            "text/plain": [
              "<IPython.core.display.HTML object>"
            ]
          },
          "metadata": {
            "tags": []
          }
        },
        {
          "output_type": "execute_result",
          "data": {
            "text/latex": "$$\\frac{\\sqrt{3}}{2}$$",
            "text/plain": [
              "√3\n",
              "──\n",
              "2 "
            ]
          },
          "metadata": {
            "tags": []
          },
          "execution_count": 14
        }
      ]
    },
    {
      "cell_type": "markdown",
      "metadata": {
        "id": "SAidU4dgvOqU"
      },
      "source": [
        "数値解を求めたいときは、float()を用います。\n",
        "\n",
        "例. $\\sin{\\frac{\\pi}{3}}$"
      ]
    },
    {
      "cell_type": "code",
      "metadata": {
        "id": "Vww8ZSVCvbHX",
        "colab": {
          "base_uri": "https://localhost:8080/",
          "height": 37
        },
        "outputId": "3146987f-5fc8-447c-ba79-559f06f55213"
      },
      "source": [
        "float(sin(pi/3))"
      ],
      "execution_count": null,
      "outputs": [
        {
          "output_type": "display_data",
          "data": {
            "text/html": [
              "<script src='https://cdnjs.cloudflare.com/ajax/libs/mathjax/2.7.3/latest.js'></script>"
            ],
            "text/plain": [
              "<IPython.core.display.HTML object>"
            ]
          },
          "metadata": {
            "tags": []
          }
        },
        {
          "output_type": "execute_result",
          "data": {
            "text/latex": "$$0.8660254037844386$$",
            "text/plain": [
              "0.8660254037844386"
            ]
          },
          "metadata": {
            "tags": []
          },
          "execution_count": 15
        }
      ]
    },
    {
      "cell_type": "markdown",
      "metadata": {
        "id": "JAUJPBs-nxR_"
      },
      "source": [
        "## 練習\n",
        "\n",
        "次の式を書いてみよう\n",
        "\n",
        "\n",
        "\n",
        "1.   $\\sin{x}+\\cos{y}$\n",
        "2.   $e^{x}$\n",
        "3.   $\\frac{x+xy}{x}$\n",
        "\n",
        "\n"
      ]
    },
    {
      "cell_type": "markdown",
      "metadata": {
        "id": "noxyMcDSpPDL"
      },
      "source": [
        "# 代数式の基本操作\n",
        "\n",
        "数学でおなじみの基本操作をマスターしましょう。\n",
        "\n",
        "1.   展開 (expand)\n",
        "2.   因数分解(factor)\n",
        "3.   簡易化 (symplify)\n",
        "4.   代入 (substitution)\n",
        "\n"
      ]
    },
    {
      "cell_type": "markdown",
      "metadata": {
        "id": "rXuP_QMdSf2-"
      },
      "source": [
        "## 式の展開\n",
        "\n",
        "式を展開するときは、expand()を用います。\n",
        "\n",
        "例. $(x+y)^3$の展開\n"
      ]
    },
    {
      "cell_type": "code",
      "metadata": {
        "id": "ZXQ1CTq_Sm_e",
        "colab": {
          "base_uri": "https://localhost:8080/",
          "height": 38
        },
        "outputId": "0b0970d4-e540-438a-e24a-77c16c016d81"
      },
      "source": [
        "expand((x+y)**3)"
      ],
      "execution_count": null,
      "outputs": [
        {
          "output_type": "display_data",
          "data": {
            "text/html": [
              "<script src='https://cdnjs.cloudflare.com/ajax/libs/mathjax/2.7.3/latest.js'></script>"
            ],
            "text/plain": [
              "<IPython.core.display.HTML object>"
            ]
          },
          "metadata": {
            "tags": []
          }
        },
        {
          "output_type": "execute_result",
          "data": {
            "text/latex": "$$x^{3} + 3 x^{2} y + 3 x y^{2} + y^{3}$$",
            "text/plain": [
              " 3      2          2    3\n",
              "x  + 3⋅x ⋅y + 3⋅x⋅y  + y "
            ]
          },
          "metadata": {
            "tags": []
          },
          "execution_count": 6
        }
      ]
    },
    {
      "cell_type": "markdown",
      "metadata": {
        "id": "OuDfXVZ_79vo"
      },
      "source": [
        "部分分数への展開はapart()を用います。\n",
        "\n",
        "例. $\\frac{1}{x(x+1)}$"
      ]
    },
    {
      "cell_type": "code",
      "metadata": {
        "id": "3qdE9kzi7oCc",
        "colab": {
          "base_uri": "https://localhost:8080/",
          "height": 39
        },
        "outputId": "76e59d97-d32f-434f-be1f-17d62d6bf12a"
      },
      "source": [
        "apart(1/(x*(x+1)))"
      ],
      "execution_count": null,
      "outputs": [
        {
          "output_type": "display_data",
          "data": {
            "text/html": [
              "<script src='https://cdnjs.cloudflare.com/ajax/libs/mathjax/2.7.3/latest.js'></script>"
            ],
            "text/plain": [
              "<IPython.core.display.HTML object>"
            ]
          },
          "metadata": {
            "tags": []
          }
        },
        {
          "output_type": "execute_result",
          "data": {
            "text/latex": "$$- \\frac{1}{x + 1} + \\frac{1}{x}$$",
            "text/plain": [
              "    1     1\n",
              "- ───── + ─\n",
              "  x + 1   x"
            ]
          },
          "metadata": {
            "tags": []
          },
          "execution_count": 33
        }
      ]
    },
    {
      "cell_type": "markdown",
      "metadata": {
        "id": "l-DTeGamnqrz"
      },
      "source": [
        "## 因数分解\n",
        "\n",
        "式を因数分解するときは、factor()を用います。\n",
        "\n",
        "例. $x^3+y^3+z^3 - 3xyz$の因数分解\n"
      ]
    },
    {
      "cell_type": "code",
      "metadata": {
        "id": "cLqQPbaCqM4y",
        "colab": {
          "base_uri": "https://localhost:8080/",
          "height": 38
        },
        "outputId": "9856a625-6898-4587-cd7d-c29b97c38cb2"
      },
      "source": [
        "z = Symbol('z')\n",
        "\n",
        "factor(x**3+y**3+z**3-3*x*y*z)"
      ],
      "execution_count": null,
      "outputs": [
        {
          "output_type": "display_data",
          "data": {
            "text/html": [
              "<script src='https://cdnjs.cloudflare.com/ajax/libs/mathjax/2.7.3/latest.js'></script>"
            ],
            "text/plain": [
              "<IPython.core.display.HTML object>"
            ]
          },
          "metadata": {
            "tags": []
          }
        },
        {
          "output_type": "execute_result",
          "data": {
            "text/latex": "$$\\left(x + y + z\\right) \\left(x^{2} - x y - x z + y^{2} - y z + z^{2}\\right)$$",
            "text/plain": [
              "            ⎛ 2                2          2⎞\n",
              "(x + y + z)⋅⎝x  - x⋅y - x⋅z + y  - y⋅z + z ⎠"
            ]
          },
          "metadata": {
            "tags": []
          },
          "execution_count": 9
        }
      ]
    },
    {
      "cell_type": "markdown",
      "metadata": {
        "id": "GvNzzm_4SvSA"
      },
      "source": [
        "## 式の簡略化\n",
        "\n",
        "式を簡易化するときはsimplify() を用います。\n",
        "\n",
        "例. $\\frac{x+xy}{x}$ の簡略化\n"
      ]
    },
    {
      "cell_type": "code",
      "metadata": {
        "id": "tSK0txfSS-N7",
        "colab": {
          "base_uri": "https://localhost:8080/",
          "height": 38
        },
        "outputId": "5f9b543c-0493-4eec-f166-c9ffc7f0796c"
      },
      "source": [
        "simplify((x + x*y) / x)"
      ],
      "execution_count": null,
      "outputs": [
        {
          "output_type": "display_data",
          "data": {
            "text/html": [
              "<script src='https://cdnjs.cloudflare.com/ajax/libs/mathjax/2.7.3/latest.js'></script>"
            ],
            "text/plain": [
              "<IPython.core.display.HTML object>"
            ]
          },
          "metadata": {
            "tags": []
          }
        },
        {
          "output_type": "execute_result",
          "data": {
            "text/latex": "$$y + 1$$",
            "text/plain": [
              "y + 1"
            ]
          },
          "metadata": {
            "tags": []
          },
          "execution_count": 10
        }
      ]
    },
    {
      "cell_type": "markdown",
      "metadata": {
        "id": "Gi6-VgH5v_aX"
      },
      "source": [
        "三角関数を含むときは、trigsimp() を用います。\n",
        "\n",
        "例. $\\cos^2{x}-\\sin^2{x}$\n"
      ]
    },
    {
      "cell_type": "code",
      "metadata": {
        "id": "9hBCk6X3wN5z",
        "colab": {
          "base_uri": "https://localhost:8080/",
          "height": 38
        },
        "outputId": "eab4477d-e2ba-41fd-f102-f7cf6f525f41"
      },
      "source": [
        "trigsimp(cos(x)**2 - sin(x)**2)"
      ],
      "execution_count": null,
      "outputs": [
        {
          "output_type": "display_data",
          "data": {
            "text/html": [
              "<script src='https://cdnjs.cloudflare.com/ajax/libs/mathjax/2.7.3/latest.js'></script>"
            ],
            "text/plain": [
              "<IPython.core.display.HTML object>"
            ]
          },
          "metadata": {
            "tags": []
          }
        },
        {
          "output_type": "execute_result",
          "data": {
            "text/latex": "$$\\cos{\\left (2 x \\right )}$$",
            "text/plain": [
              "cos(2⋅x)"
            ]
          },
          "metadata": {
            "tags": []
          },
          "execution_count": 16
        }
      ]
    },
    {
      "cell_type": "markdown",
      "metadata": {
        "id": "fRngoN8UsF2p"
      },
      "source": [
        "## 式の代入\n",
        "\n",
        "式への代入は、subs()メソッドを用います。\n",
        "\n",
        "\n",
        "例. $x^3+y^3+z^3-3xyz$ の $z=1$のとき"
      ]
    },
    {
      "cell_type": "code",
      "metadata": {
        "id": "lAIxx-lTr48A",
        "colab": {
          "base_uri": "https://localhost:8080/",
          "height": 38
        },
        "outputId": "cc4361bd-74cc-4292-d043-aaf376593fdb"
      },
      "source": [
        "(x**3+y**3+z**3-3*x*y*z).subs(z, 1)"
      ],
      "execution_count": null,
      "outputs": [
        {
          "output_type": "display_data",
          "data": {
            "text/html": [
              "<script src='https://cdnjs.cloudflare.com/ajax/libs/mathjax/2.7.3/latest.js'></script>"
            ],
            "text/plain": [
              "<IPython.core.display.HTML object>"
            ]
          },
          "metadata": {
            "tags": []
          }
        },
        {
          "output_type": "execute_result",
          "data": {
            "text/latex": "$$x^{3} - 3 x y + y^{3} + 1$$",
            "text/plain": [
              " 3            3    \n",
              "x  - 3⋅x⋅y + y  + 1"
            ]
          },
          "metadata": {
            "tags": []
          },
          "execution_count": 11
        }
      ]
    },
    {
      "cell_type": "markdown",
      "metadata": {
        "id": "5K33OmH7s26G"
      },
      "source": [
        "# 方程式の解法\n",
        "\n",
        "solve()を用いると、方程式の解を求めることができる。\n",
        "\n",
        "例. $x^4=1$のxの解"
      ]
    },
    {
      "cell_type": "code",
      "metadata": {
        "id": "CTkjSQGhtuVc",
        "colab": {
          "base_uri": "https://localhost:8080/",
          "height": 38
        },
        "outputId": "cc3653bd-6a74-4190-e4f0-97f1dc2f96e5"
      },
      "source": [
        "solve(x**4-1, x)"
      ],
      "execution_count": null,
      "outputs": [
        {
          "output_type": "display_data",
          "data": {
            "text/html": [
              "<script src='https://cdnjs.cloudflare.com/ajax/libs/mathjax/2.7.3/latest.js'></script>"
            ],
            "text/plain": [
              "<IPython.core.display.HTML object>"
            ]
          },
          "metadata": {
            "tags": []
          }
        },
        {
          "output_type": "execute_result",
          "data": {
            "text/latex": "$$\\left [ -1, \\quad 1, \\quad - i, \\quad i\\right ]$$",
            "text/plain": [
              "[-1, 1, -ⅈ, ⅈ]"
            ]
          },
          "metadata": {
            "tags": []
          },
          "execution_count": 12
        }
      ]
    },
    {
      "cell_type": "markdown",
      "metadata": {
        "id": "_D7F4n7zt1_x"
      },
      "source": [
        "連立方程式は、リストで与えます。\n",
        "\n",
        "例. 連立方程式 $x + 5y = 2, -3x + 6y = 15$の解を求める"
      ]
    },
    {
      "cell_type": "code",
      "metadata": {
        "id": "jpE5koUtuBxU",
        "colab": {
          "base_uri": "https://localhost:8080/",
          "height": 38
        },
        "outputId": "5e0e6749-f48d-48bc-90b1-6d5e13b68bda"
      },
      "source": [
        "solve([x+5*y-2, -3*x+6*y-15], [x,y])"
      ],
      "execution_count": null,
      "outputs": [
        {
          "output_type": "display_data",
          "data": {
            "text/html": [
              "<script src='https://cdnjs.cloudflare.com/ajax/libs/mathjax/2.7.3/latest.js'></script>"
            ],
            "text/plain": [
              "<IPython.core.display.HTML object>"
            ]
          },
          "metadata": {
            "tags": []
          }
        },
        {
          "output_type": "execute_result",
          "data": {
            "text/latex": "$$\\left \\{ x : -3, \\quad y : 1\\right \\}$$",
            "text/plain": [
              "{x: -3, y: 1}"
            ]
          },
          "metadata": {
            "tags": []
          },
          "execution_count": 13
        }
      ]
    },
    {
      "cell_type": "markdown",
      "metadata": {
        "id": "TgQtbwkyxcXh"
      },
      "source": [
        "# 微積分\n",
        "\n",
        "SymPyを使えば、微積分もお手のものです。"
      ]
    },
    {
      "cell_type": "markdown",
      "metadata": {
        "id": "b_iqwLHkxvux"
      },
      "source": [
        "## 極限\n",
        "\n",
        "極限は、limit()を用いて求めます。\n",
        "\n",
        "\n",
        "例. $\\lim_{x \\to 0} x^x$"
      ]
    },
    {
      "cell_type": "code",
      "metadata": {
        "id": "BCCaDgEyyA7Z",
        "colab": {
          "base_uri": "https://localhost:8080/",
          "height": 37
        },
        "outputId": "8e8be9f6-0294-4b99-d563-72a840a3e829"
      },
      "source": [
        "limit(x**x, x, 0)"
      ],
      "execution_count": null,
      "outputs": [
        {
          "output_type": "display_data",
          "data": {
            "text/html": [
              "<script src='https://cdnjs.cloudflare.com/ajax/libs/mathjax/2.7.3/latest.js'></script>"
            ],
            "text/plain": [
              "<IPython.core.display.HTML object>"
            ]
          },
          "metadata": {
            "tags": []
          }
        },
        {
          "output_type": "execute_result",
          "data": {
            "text/latex": "$$1$$",
            "text/plain": [
              "1"
            ]
          },
          "metadata": {
            "tags": []
          },
          "execution_count": 17
        }
      ]
    },
    {
      "cell_type": "markdown",
      "metadata": {
        "id": "cytI6RnmyCou"
      },
      "source": [
        "無限大は、ooです。\n",
        "\n",
        "例. $\\lim_{x \\to \\infty} x^x$"
      ]
    },
    {
      "cell_type": "code",
      "metadata": {
        "id": "o7tWsz1iyVWv",
        "colab": {
          "base_uri": "https://localhost:8080/",
          "height": 37
        },
        "outputId": "95ed9fa4-9540-4db7-9dc6-6c6acf87decd"
      },
      "source": [
        "limit(1/x, x, oo)"
      ],
      "execution_count": null,
      "outputs": [
        {
          "output_type": "display_data",
          "data": {
            "text/html": [
              "<script src='https://cdnjs.cloudflare.com/ajax/libs/mathjax/2.7.3/latest.js'></script>"
            ],
            "text/plain": [
              "<IPython.core.display.HTML object>"
            ]
          },
          "metadata": {
            "tags": []
          }
        },
        {
          "output_type": "execute_result",
          "data": {
            "text/latex": "$$0$$",
            "text/plain": [
              "0"
            ]
          },
          "metadata": {
            "tags": []
          },
          "execution_count": 18
        }
      ]
    },
    {
      "cell_type": "markdown",
      "metadata": {
        "id": "GguLXd4YyGHZ"
      },
      "source": [
        "## 微分\n",
        "\n",
        "微分は、diff()を用います。\n",
        "\n",
        "例. $\\frac{x}{dx}\\sin{x}$"
      ]
    },
    {
      "cell_type": "code",
      "metadata": {
        "id": "JQlZkmEOyyDN",
        "colab": {
          "base_uri": "https://localhost:8080/",
          "height": 38
        },
        "outputId": "0e3c5c73-6ef6-429f-e00f-07337ca38c32"
      },
      "source": [
        "diff(sin(x), x)"
      ],
      "execution_count": null,
      "outputs": [
        {
          "output_type": "display_data",
          "data": {
            "text/html": [
              "<script src='https://cdnjs.cloudflare.com/ajax/libs/mathjax/2.7.3/latest.js'></script>"
            ],
            "text/plain": [
              "<IPython.core.display.HTML object>"
            ]
          },
          "metadata": {
            "tags": []
          }
        },
        {
          "output_type": "execute_result",
          "data": {
            "text/latex": "$$\\cos{\\left (x \\right )}$$",
            "text/plain": [
              "cos(x)"
            ]
          },
          "metadata": {
            "tags": []
          },
          "execution_count": 19
        }
      ]
    },
    {
      "cell_type": "markdown",
      "metadata": {
        "id": "9Fkkyp4E1VGe"
      },
      "source": [
        "## 積分\n",
        "\n",
        "初等関数, 特殊関数の有限無限区間での積分ができます。\n",
        "\n",
        "例. $\\int \\log{x} dx$\n"
      ]
    },
    {
      "cell_type": "code",
      "metadata": {
        "id": "yr-FNOsx1T8P",
        "colab": {
          "base_uri": "https://localhost:8080/",
          "height": 38
        },
        "outputId": "e61977f1-3669-4525-e611-7bccd87ef78f"
      },
      "source": [
        "integrate(log(x), x)"
      ],
      "execution_count": null,
      "outputs": [
        {
          "output_type": "display_data",
          "data": {
            "text/html": [
              "<script src='https://cdnjs.cloudflare.com/ajax/libs/mathjax/2.7.3/latest.js'></script>"
            ],
            "text/plain": [
              "<IPython.core.display.HTML object>"
            ]
          },
          "metadata": {
            "tags": []
          }
        },
        {
          "output_type": "execute_result",
          "data": {
            "text/latex": "$$x \\log{\\left (x \\right )} - x$$",
            "text/plain": [
              "x⋅log(x) - x"
            ]
          },
          "metadata": {
            "tags": []
          },
          "execution_count": 20
        }
      ]
    },
    {
      "cell_type": "markdown",
      "metadata": {
        "id": "XNNyQ0co2DOb"
      },
      "source": [
        "例. 例. $\\int_{-\\infty}^\\infty  e^{-x^2} dx$"
      ]
    },
    {
      "cell_type": "code",
      "metadata": {
        "id": "fuohumPZ2OAd",
        "colab": {
          "base_uri": "https://localhost:8080/",
          "height": 37
        },
        "outputId": "ea630146-b947-4dcf-ec3a-5b04ae63a1df"
      },
      "source": [
        "integrate(exp(-x**2), (x, -oo, oo))"
      ],
      "execution_count": null,
      "outputs": [
        {
          "output_type": "display_data",
          "data": {
            "text/html": [
              "<script src='https://cdnjs.cloudflare.com/ajax/libs/mathjax/2.7.3/latest.js'></script>"
            ],
            "text/plain": [
              "<IPython.core.display.HTML object>"
            ]
          },
          "metadata": {
            "tags": []
          }
        },
        {
          "output_type": "execute_result",
          "data": {
            "text/latex": "$$\\sqrt{\\pi}$$",
            "text/plain": [
              "√π"
            ]
          },
          "metadata": {
            "tags": []
          },
          "execution_count": 29
        }
      ]
    },
    {
      "cell_type": "markdown",
      "metadata": {
        "id": "gGKQWeLQ3tlS"
      },
      "source": [
        "### 練習\n",
        "\n",
        "1.   $\\int_{-\\infty}^\\infty \\sin{x^2} dx$ を求めよ\n",
        "2.   $\\int_{0}^\\infty  (\\sqrt{x^2+1}-1)^2 dx$ を求めよ\n",
        "\n"
      ]
    },
    {
      "cell_type": "markdown",
      "metadata": {
        "id": "qTsub9sp9Vme"
      },
      "source": [
        "# 総合問題\n",
        "\n",
        "1. $f(x)=\\frac{4x^2+2x+1}{x^2+1}$の極値を求めよ"
      ]
    }
  ]
}